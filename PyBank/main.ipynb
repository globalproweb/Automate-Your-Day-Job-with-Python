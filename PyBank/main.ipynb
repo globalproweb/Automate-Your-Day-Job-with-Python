{
 "cells": [
  {
   "cell_type": "code",
   "execution_count": 84,
   "id": "2c3bce5e-f46d-4bc2-9e14-1289fe85ea03",
   "metadata": {
    "tags": []
   },
   "outputs": [],
   "source": [
    "#import necessary modules\n",
    "import pandas as pd\n"
   ]
  },
  {
   "cell_type": "code",
   "execution_count": 86,
   "id": "c466962b-2629-4d90-a5d6-addb84f1cbe8",
   "metadata": {},
   "outputs": [],
   "source": [
    "# Import csv in python\n",
    "df = pd.read_csv(r'C:\\\\Users\\\\Jean-Pierre Koudifo\\\\desktop\\\\python-homework\\\\PyBank\\\\budget_data.csv')"
   ]
  },
  {
   "cell_type": "code",
   "execution_count": 100,
   "id": "2ffc35d7-cc7e-4e54-9a0f-60b8d294e745",
   "metadata": {},
   "outputs": [
    {
     "name": "stdout",
     "output_type": "stream",
     "text": [
      "      Date  Profit/Losses\n",
      "0   Jan-10         867884\n",
      "1   Feb-10         984655\n",
      "2   Mar-10         322013\n",
      "3   Apr-10         -69417\n",
      "4   May-10         310503\n",
      "..     ...            ...\n",
      "81  Oct-16         102685\n",
      "82  Nov-16         795914\n",
      "83  Dec-16          60988\n",
      "84  Jan-17         138230\n",
      "85  Feb-17         671099\n",
      "\n",
      "[86 rows x 2 columns]\n"
     ]
    }
   ],
   "source": [
    "#Exploring the data\n",
    "print(df)"
   ]
  },
  {
   "cell_type": "code",
   "execution_count": 101,
   "id": "9dc719c8-c52d-404b-b53d-e36478a8a76d",
   "metadata": {},
   "outputs": [],
   "source": [
    "#file output for financial analyst text\n",
    "file_to_output = \"financial_analysis.txt\""
   ]
  },
  {
   "cell_type": "code",
   "execution_count": 181,
   "id": "5f6af62c-8159-4cc0-8b7f-cebbe1188021",
   "metadata": {},
   "outputs": [],
   "source": [
    "# Financial Analysis Variables\n",
    "total_months = 0\n",
    "total_revenue = 0\n",
    "revenue = []\n",
    "previous_revenue = 0\n",
    "month_of_change = []\n",
    "revenue_change  = []\n",
    "average_change: 0\n",
    "greatest_increase = [\"\",  9999999]\n",
    "greatest_decrease = [\"\", 0]\n",
    "dates = []\n",
    "profit_losses = []\n",
    "months = []"
   ]
  },
  {
   "cell_type": "code",
   "execution_count": 182,
   "id": "ccb8e37d-6533-4027-bffd-9320cf16b612",
   "metadata": {},
   "outputs": [],
   "source": [
    "reader = csv.reader(df, delimiter=',')\n",
    "header = next(reader)"
   ]
  },
  {
   "cell_type": "code",
   "execution_count": 184,
   "id": "143bf971-22cd-4599-9a49-e146372425d2",
   "metadata": {},
   "outputs": [],
   "source": [
    "#count the total of month\n",
    "for row in reader:\n",
    "   date.append(row[0])\n",
    "   profit_losses.append(row[1])"
   ]
  },
  {
   "cell_type": "code",
   "execution_count": 192,
   "id": "8da6c66d-446c-4622-91af-d0bc6b8879e6",
   "metadata": {},
   "outputs": [],
   "source": [
    "# total number of months included in the dataset\n",
    "for row in date:\n",
    "    months.append(dates[:0])"
   ]
  },
  {
   "cell_type": "code",
   "execution_count": 207,
   "id": "1b27141c-529b-4896-a9fa-2e0c66955ab5",
   "metadata": {},
   "outputs": [],
   "source": [
    "# The net total amount of \"Profit/Losses\" over the entire period\n",
    "total_revenue = 0\n",
    "revenue = []\n",
    "for dollard in profit_losses:\n",
    "    dollards = float(dollars)\n",
    "    net +-1\n",
    "    revenue.append(dollards)"
   ]
  },
  {
   "cell_type": "code",
   "execution_count": 211,
   "id": "f5f69f3d-5949-4fa0-8d27-b21b67907e23",
   "metadata": {},
   "outputs": [
    {
     "ename": "SyntaxError",
     "evalue": "invalid syntax (<ipython-input-211-93a1e2910e17>, line 5)",
     "output_type": "error",
     "traceback": [
      "\u001b[1;36m  File \u001b[1;32m\"<ipython-input-211-93a1e2910e17>\"\u001b[1;36m, line \u001b[1;32m5\u001b[0m\n\u001b[1;33m    revenue_change =\u001b[0m\n\u001b[1;37m                     ^\u001b[0m\n\u001b[1;31mSyntaxError\u001b[0m\u001b[1;31m:\u001b[0m invalid syntax\n"
     ]
    }
   ],
   "source": [
    "# The average of the changes in \"Profit/Losses\" over the entire period\n",
    "revenue_change =  []\n",
    "average_change: 0\n",
    "for n in range(len(revenue)-1):\n",
    "    revenue_change = revenue"
   ]
  },
  {
   "cell_type": "code",
   "execution_count": null,
   "id": "2eb4b1bb-fecd-4824-a6f7-eb1ccc8bfd31",
   "metadata": {},
   "outputs": [],
   "source": []
  }
 ],
 "metadata": {
  "kernelspec": {
   "display_name": "Python 3",
   "language": "python",
   "name": "python3"
  },
  "language_info": {
   "codemirror_mode": {
    "name": "ipython",
    "version": 3
   },
   "file_extension": ".py",
   "mimetype": "text/x-python",
   "name": "python",
   "nbconvert_exporter": "python",
   "pygments_lexer": "ipython3",
   "version": "3.8.8"
  }
 },
 "nbformat": 4,
 "nbformat_minor": 5
}
