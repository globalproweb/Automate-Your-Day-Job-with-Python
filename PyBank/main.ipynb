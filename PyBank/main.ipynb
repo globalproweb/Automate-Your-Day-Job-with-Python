{
 "cells": [
  {
   "cell_type": "code",
   "execution_count": 172,
   "id": "2c3bce5e-f46d-4bc2-9e14-1289fe85ea03",
   "metadata": {
    "tags": []
   },
   "outputs": [],
   "source": [
    "#import necessary modules\n",
    "import pandas as pd\n",
    "from pathlib import Path"
   ]
  },
  {
   "cell_type": "code",
   "execution_count": 174,
   "id": "c466962b-2629-4d90-a5d6-addb84f1cbe8",
   "metadata": {},
   "outputs": [],
   "source": [
    "# Create csv path\n",
    "csvpath = Path('budget_data.csv')"
   ]
  },
  {
   "cell_type": "code",
   "execution_count": null,
   "id": "d8fb89c9-97f9-40cb-9f73-cbd74f85e6c1",
   "metadata": {},
   "outputs": [],
   "source": [
    "# Read in the csv as Data frame\n",
    "budget_data = pd.read_csv(csvpath)"
   ]
  },
  {
   "cell_type": "code",
   "execution_count": 166,
   "id": "b39662be-3352-40c9-8527-a5d2fda23ed4",
   "metadata": {},
   "outputs": [],
   "source": [
    "# Defining budget_data Variables \n",
    "month = []\n",
    "total_month = 0\n",
    "profit_loss = 0 \n",
    "total = 0\n",
    "revenue = []\n",
    "greatest_increase = [\"\",  9999999]\n",
    "greatest_decrease = [\"\", 0]\n",
    "revenue_change = []\n",
    "month_change = []"
   ]
  },
  {
   "cell_type": "code",
   "execution_count": 171,
   "id": "2ffc35d7-cc7e-4e54-9a0f-60b8d294e745",
   "metadata": {},
   "outputs": [],
   "source": [
    "#Exploring the data\n",
    "# open and read the file as csv \n",
    "with open(csvpath, newline='') as csvfile:\n",
    "    csvreader = csv.DictReader(csvfile)\n",
    "    csv_header = next(csvreader)"
   ]
  },
  {
   "cell_type": "code",
   "execution_count": null,
   "id": "e5a63f3c-e34e-4ebf-999f-c5a9c19a665c",
   "metadata": {},
   "outputs": [],
   "source": [
    "# Read each row in the dictionary\n",
    "for row in csvreader:\n",
    "     budget_row = int(row[\"Profit/Losses\"])"
   ]
  },
  {
   "cell_type": "code",
   "execution_count": 170,
   "id": "8da6c66d-446c-4622-91af-d0bc6b8879e6",
   "metadata": {},
   "outputs": [
    {
     "ename": "ValueError",
     "evalue": "I/O operation on closed file.",
     "output_type": "error",
     "traceback": [
      "\u001b[1;31m---------------------------------------------------------------------------\u001b[0m",
      "\u001b[1;31mValueError\u001b[0m                                Traceback (most recent call last)",
      "\u001b[1;32m<ipython-input-170-6d282bc9f6ca>\u001b[0m in \u001b[0;36m<module>\u001b[1;34m\u001b[0m\n\u001b[0;32m      1\u001b[0m \u001b[1;31m# total number of months\u001b[0m\u001b[1;33m\u001b[0m\u001b[1;33m\u001b[0m\u001b[1;33m\u001b[0m\u001b[0m\n\u001b[1;32m----> 2\u001b[1;33m \u001b[1;32mfor\u001b[0m \u001b[0mrow\u001b[0m \u001b[1;32min\u001b[0m \u001b[0mcsvreader\u001b[0m\u001b[1;33m:\u001b[0m\u001b[1;33m\u001b[0m\u001b[1;33m\u001b[0m\u001b[0m\n\u001b[0m\u001b[0;32m      3\u001b[0m     \u001b[0mmonth\u001b[0m\u001b[1;33m.\u001b[0m\u001b[0mappend\u001b[0m\u001b[1;33m(\u001b[0m\u001b[0mrow\u001b[0m\u001b[1;33m[\u001b[0m\u001b[1;36m0\u001b[0m\u001b[1;33m]\u001b[0m\u001b[1;33m)\u001b[0m\u001b[1;33m\u001b[0m\u001b[1;33m\u001b[0m\u001b[0m\n\u001b[0;32m      4\u001b[0m     \u001b[0mrevenue\u001b[0m\u001b[1;33m.\u001b[0m\u001b[0mappend\u001b[0m\u001b[1;33m(\u001b[0m\u001b[0mrow\u001b[0m\u001b[1;33m[\u001b[0m\u001b[1;36m1\u001b[0m\u001b[1;33m]\u001b[0m\u001b[1;33m)\u001b[0m\u001b[1;33m\u001b[0m\u001b[1;33m\u001b[0m\u001b[0m\n\u001b[0;32m      5\u001b[0m \u001b[0mprint\u001b[0m\u001b[1;33m(\u001b[0m\u001b[0mlen\u001b[0m\u001b[1;33m(\u001b[0m\u001b[0mmonth\u001b[0m\u001b[1;33m)\u001b[0m\u001b[1;33m)\u001b[0m\u001b[1;33m\u001b[0m\u001b[1;33m\u001b[0m\u001b[0m\n",
      "\u001b[1;32m~\\anaconda3\\lib\\csv.py\u001b[0m in \u001b[0;36m__next__\u001b[1;34m(self)\u001b[0m\n\u001b[0;32m    109\u001b[0m             \u001b[1;31m# Used only for its side effect.\u001b[0m\u001b[1;33m\u001b[0m\u001b[1;33m\u001b[0m\u001b[1;33m\u001b[0m\u001b[0m\n\u001b[0;32m    110\u001b[0m             \u001b[0mself\u001b[0m\u001b[1;33m.\u001b[0m\u001b[0mfieldnames\u001b[0m\u001b[1;33m\u001b[0m\u001b[1;33m\u001b[0m\u001b[0m\n\u001b[1;32m--> 111\u001b[1;33m         \u001b[0mrow\u001b[0m \u001b[1;33m=\u001b[0m \u001b[0mnext\u001b[0m\u001b[1;33m(\u001b[0m\u001b[0mself\u001b[0m\u001b[1;33m.\u001b[0m\u001b[0mreader\u001b[0m\u001b[1;33m)\u001b[0m\u001b[1;33m\u001b[0m\u001b[1;33m\u001b[0m\u001b[0m\n\u001b[0m\u001b[0;32m    112\u001b[0m         \u001b[0mself\u001b[0m\u001b[1;33m.\u001b[0m\u001b[0mline_num\u001b[0m \u001b[1;33m=\u001b[0m \u001b[0mself\u001b[0m\u001b[1;33m.\u001b[0m\u001b[0mreader\u001b[0m\u001b[1;33m.\u001b[0m\u001b[0mline_num\u001b[0m\u001b[1;33m\u001b[0m\u001b[1;33m\u001b[0m\u001b[0m\n\u001b[0;32m    113\u001b[0m \u001b[1;33m\u001b[0m\u001b[0m\n",
      "\u001b[1;31mValueError\u001b[0m: I/O operation on closed file."
     ]
    }
   ],
   "source": [
    "# total number of months \n",
    "for row in csvreader:\n",
    "    month.append(row[0])\n",
    "    revenue.append(row[1])\n",
    "print(len(month))"
   ]
  },
  {
   "cell_type": "code",
   "execution_count": null,
   "id": "0aa6f382-0ada-4513-b03d-c158724a8e96",
   "metadata": {},
   "outputs": [],
   "source": [
    "#Revenue \n",
    "    revenue_int = map(int,revenue)\n",
    "    total_revenue = (sum(revenue_int))\n",
    "    print(total_revenue)"
   ]
  },
  {
   "cell_type": "code",
   "execution_count": 63,
   "id": "f5f69f3d-5949-4fa0-8d27-b21b67907e23",
   "metadata": {},
   "outputs": [],
   "source": [
    "# The average of the changes in \"Profit/Losses\" over the entire period\n",
    "change = []\n",
    "average_change: 0\n",
    "for n in range(len(revenue)-1):\n",
    "    revenue_change = revenue"
   ]
  },
  {
   "cell_type": "code",
   "execution_count": null,
   "id": "80294421-c2af-472a-aca4-c42fb1c0e160",
   "metadata": {},
   "outputs": [],
   "source": []
  }
 ],
 "metadata": {
  "kernelspec": {
   "display_name": "Python 3",
   "language": "python",
   "name": "python3"
  },
  "language_info": {
   "codemirror_mode": {
    "name": "ipython",
    "version": 3
   },
   "file_extension": ".py",
   "mimetype": "text/x-python",
   "name": "python",
   "nbconvert_exporter": "python",
   "pygments_lexer": "ipython3",
   "version": "3.8.8"
  }
 },
 "nbformat": 4,
 "nbformat_minor": 5
}
