{
 "cells": [
  {
   "cell_type": "code",
   "execution_count": 7,
   "id": "2c3bce5e-f46d-4bc2-9e14-1289fe85ea03",
   "metadata": {
    "tags": []
   },
   "outputs": [],
   "source": [
    "#import necessary modules\n",
    "import os\n",
    "import csv"
   ]
  },
  {
   "cell_type": "code",
   "execution_count": 11,
   "id": "6df14e1b-e1c7-4bd0-9ec0-ce986230e996",
   "metadata": {},
   "outputs": [],
   "source": [
    "#set path for file\n",
    "budget_data_csv = os.path.join(\"C:\\\\Users\\\\Jean-Pierre Koudifo\\\\Dropbox (Global Language)\\\\My PC (LAPTOP-BCAOEDAN)\\\\Desktop\\\\Ressources\\\\budget_data.csv\")"
   ]
  },
  {
   "cell_type": "code",
   "execution_count": 15,
   "id": "9dc719c8-c52d-404b-b53d-e36478a8a76d",
   "metadata": {},
   "outputs": [],
   "source": [
    "#output for financial analyst text\n",
    "text_path = \"financial_analysis.txt\""
   ]
  },
  {
   "cell_type": "code",
   "execution_count": null,
   "id": "5f6af62c-8159-4cc0-8b7f-cebbe1188021",
   "metadata": {},
   "outputs": [],
   "source": [
    "# Financial Analysis calculation\n",
    "the total number of months in the dataset\n",
    "Net total amount of Profit/Losses over the entire period.\n",
    "average of the changes in Profit/Losses over the entire period.\n",
    "greatest increase in profits (date and amount) over the entire period.\n",
    "greatest decrease in losses (date and amount) over the entire period"
   ]
  },
  {
   "cell_type": "code",
   "execution_count": 28,
   "id": "e6e45ea8-f0f1-485a-90a8-ff6f56dfa39e",
   "metadata": {},
   "outputs": [],
   "source": [
    "# Financial Analysis Variables\n",
    "total_months = 0\n",
    "total_revenue = 0\n",
    "revenue = []\n",
    "previous_revenue = 0\n",
    "month_of_change = []\n",
    "revenue_change  = []\n",
    "average_change: 0\n",
    "greatest_increase = [\"\",  9999999]\n",
    "greatest_decrease = [\"\", 0]"
   ]
  },
  {
   "cell_type": "code",
   "execution_count": 29,
   "id": "8027a3cc-7f88-459f-8456-80e86c5c77c7",
   "metadata": {},
   "outputs": [],
   "source": [
    "# open the csv file \n",
    "with open('budget_data.csv') as csvfile:\n",
    "    csvreader = csv.DictReader(csvfile)"
   ]
  },
  {
   "cell_type": "code",
   "execution_count": 32,
   "id": "1dd7284f-1236-4fe5-b750-f7f933b44ee9",
   "metadata": {},
   "outputs": [
    {
     "ename": "SyntaxError",
     "evalue": "invalid syntax (<ipython-input-32-ac93bcb7fcdf>, line 3)",
     "output_type": "error",
     "traceback": [
      "\u001b[1;36m  File \u001b[1;32m\"<ipython-input-32-ac93bcb7fcdf>\"\u001b[1;36m, line \u001b[1;32m3\u001b[0m\n\u001b[1;33m    count the total of mounths\u001b[0m\n\u001b[1;37m          ^\u001b[0m\n\u001b[1;31mSyntaxError\u001b[0m\u001b[1;31m:\u001b[0m invalid syntax\n"
     ]
    }
   ],
   "source": [
    "# loop through to find total mounths\n",
    "for row in csvreader:\n",
    "    count the total of mounths\n",
    " total mounths += 1"
   ]
  },
  {
   "cell_type": "code",
   "execution_count": null,
   "id": "1b27141c-529b-4896-a9fa-2e0c66955ab5",
   "metadata": {},
   "outputs": [],
   "source": []
  }
 ],
 "metadata": {
  "kernelspec": {
   "display_name": "Python 3",
   "language": "python",
   "name": "python3"
  },
  "language_info": {
   "codemirror_mode": {
    "name": "ipython",
    "version": 3
   },
   "file_extension": ".py",
   "mimetype": "text/x-python",
   "name": "python",
   "nbconvert_exporter": "python",
   "pygments_lexer": "ipython3",
   "version": "3.8.8"
  }
 },
 "nbformat": 4,
 "nbformat_minor": 5
}
