{
 "cells": [
  {
   "cell_type": "code",
   "execution_count": 2,
   "id": "0c79eace-8bfc-4aa3-b7d0-e527ea70e54a",
   "metadata": {
    "tags": []
   },
   "outputs": [
    {
     "name": "stdout",
     "output_type": "stream",
     "text": [
      "        Date  Profit/Losses\n",
      "0   Jan-2010         867884\n",
      "1   Feb-2010         984655\n",
      "2   Mar-2010         322013\n",
      "3   Apr-2010         -69417\n",
      "4   May-2010         310503\n",
      "..       ...            ...\n",
      "81  Oct-2016         102685\n",
      "82  Nov-2016         795914\n",
      "83  Dec-2016          60988\n",
      "84  Jan-2017         138230\n",
      "85  Feb-2017         671099\n",
      "\n",
      "[86 rows x 2 columns]\n"
     ]
    }
   ],
   "source": [
    "import pandas as pd\n",
    "\n",
    "budget_data = pd.read_csv('budget_data.csv')\n",
    "\n",
    "print(budget_data)"
   ]
  },
  {
   "cell_type": "code",
   "execution_count": null,
   "id": "2c3bce5e-f46d-4bc2-9e14-1289fe85ea03",
   "metadata": {},
   "outputs": [],
   "source": [
    "import os\n",
    "import csv"
   ]
  },
  {
   "cell_type": "code",
   "execution_count": null,
   "id": "0b4fa1b6-e07b-4b4f-aca4-75fa42eabc03",
   "metadata": {},
   "outputs": [],
   "source": [
    "budget_data_csv = os.path.join(\"C:Users/Jean-Pierre Koudifo/Dropbox (Global Language)/My PC (LAPTOP-BCAOEDAN)/Desktop/Ressources/budget_data.csv\")"
   ]
  },
  {
   "cell_type": "code",
   "execution_count": null,
   "id": "ff35024e-bb38-42d0-83ca-cc8f7e4263e2",
   "metadata": {},
   "outputs": [],
   "source": []
  },
  {
   "cell_type": "code",
   "execution_count": null,
   "id": "5f6af62c-8159-4cc0-8b7f-cebbe1188021",
   "metadata": {},
   "outputs": [],
   "source": [
    "Financial Analysis\n",
    "Calculate: \n",
    "total number of months included in the dataset.\n",
    "net total amount of Profit/Losses over the entire period.\n",
    "average of the changes in Profit/Losses over the entire period.\n",
    "greatest increase in profits (date and amount) over the entire period.\n",
    "greatest decrease in losses (date and amount) over the entire period"
   ]
  },
  {
   "cell_type": "code",
   "execution_count": null,
   "id": "e6e45ea8-f0f1-485a-90a8-ff6f56dfa39e",
   "metadata": {},
   "outputs": [],
   "source": [
    "Total Months: 0\n",
    "Total: 0\n",
    "Average  Change: 0\n",
    "Greatest Increase in Profits: 0\n",
    "Greatest Decrease in Profits: 0\n"
   ]
  },
  {
   "cell_type": "code",
   "execution_count": null,
   "id": "c3263c89-01e7-40bc-9539-0dd5dedcaeb9",
   "metadata": {},
   "outputs": [],
   "source": []
  }
 ],
 "metadata": {
  "kernelspec": {
   "display_name": "Python 3",
   "language": "python",
   "name": "python3"
  },
  "language_info": {
   "codemirror_mode": {
    "name": "ipython",
    "version": 3
   },
   "file_extension": ".py",
   "mimetype": "text/x-python",
   "name": "python",
   "nbconvert_exporter": "python",
   "pygments_lexer": "ipython3",
   "version": "3.8.8"
  }
 },
 "nbformat": 4,
 "nbformat_minor": 5
}
