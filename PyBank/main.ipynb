{
 "cells": [
  {
   "cell_type": "code",
   "execution_count": 172,
   "id": "2c3bce5e-f46d-4bc2-9e14-1289fe85ea03",
   "metadata": {
    "tags": []
   },
   "outputs": [],
   "source": [
    "#import necessary modules\n",
    "import pandas as pd\n",
    "from pathlib import Path"
   ]
  },
  {
   "cell_type": "code",
   "execution_count": 174,
   "id": "c466962b-2629-4d90-a5d6-addb84f1cbe8",
   "metadata": {},
   "outputs": [],
   "source": [
    "# Create csv path\n",
    "csvpath = Path('budget_data.csv')"
   ]
  },
  {
   "cell_type": "code",
   "execution_count": 176,
   "id": "d8fb89c9-97f9-40cb-9f73-cbd74f85e6c1",
   "metadata": {},
   "outputs": [
    {
     "data": {
      "text/html": [
       "<div>\n",
       "<style scoped>\n",
       "    .dataframe tbody tr th:only-of-type {\n",
       "        vertical-align: middle;\n",
       "    }\n",
       "\n",
       "    .dataframe tbody tr th {\n",
       "        vertical-align: top;\n",
       "    }\n",
       "\n",
       "    .dataframe thead th {\n",
       "        text-align: right;\n",
       "    }\n",
       "</style>\n",
       "<table border=\"1\" class=\"dataframe\">\n",
       "  <thead>\n",
       "    <tr style=\"text-align: right;\">\n",
       "      <th></th>\n",
       "      <th>Date</th>\n",
       "      <th>Profit/Losses</th>\n",
       "    </tr>\n",
       "  </thead>\n",
       "  <tbody>\n",
       "    <tr>\n",
       "      <th>0</th>\n",
       "      <td>Jan-10</td>\n",
       "      <td>867884</td>\n",
       "    </tr>\n",
       "    <tr>\n",
       "      <th>1</th>\n",
       "      <td>Feb-10</td>\n",
       "      <td>984655</td>\n",
       "    </tr>\n",
       "    <tr>\n",
       "      <th>2</th>\n",
       "      <td>Mar-10</td>\n",
       "      <td>322013</td>\n",
       "    </tr>\n",
       "    <tr>\n",
       "      <th>3</th>\n",
       "      <td>Apr-10</td>\n",
       "      <td>-69417</td>\n",
       "    </tr>\n",
       "    <tr>\n",
       "      <th>4</th>\n",
       "      <td>May-10</td>\n",
       "      <td>310503</td>\n",
       "    </tr>\n",
       "    <tr>\n",
       "      <th>5</th>\n",
       "      <td>Jun-10</td>\n",
       "      <td>522857</td>\n",
       "    </tr>\n",
       "    <tr>\n",
       "      <th>6</th>\n",
       "      <td>Jul-10</td>\n",
       "      <td>1033096</td>\n",
       "    </tr>\n",
       "    <tr>\n",
       "      <th>7</th>\n",
       "      <td>Aug-10</td>\n",
       "      <td>604885</td>\n",
       "    </tr>\n",
       "    <tr>\n",
       "      <th>8</th>\n",
       "      <td>Sep-10</td>\n",
       "      <td>-216386</td>\n",
       "    </tr>\n",
       "    <tr>\n",
       "      <th>9</th>\n",
       "      <td>Oct-10</td>\n",
       "      <td>477532</td>\n",
       "    </tr>\n",
       "  </tbody>\n",
       "</table>\n",
       "</div>"
      ],
      "text/plain": [
       "     Date  Profit/Losses\n",
       "0  Jan-10         867884\n",
       "1  Feb-10         984655\n",
       "2  Mar-10         322013\n",
       "3  Apr-10         -69417\n",
       "4  May-10         310503\n",
       "5  Jun-10         522857\n",
       "6  Jul-10        1033096\n",
       "7  Aug-10         604885\n",
       "8  Sep-10        -216386\n",
       "9  Oct-10         477532"
      ]
     },
     "execution_count": 176,
     "metadata": {},
     "output_type": "execute_result"
    }
   ],
   "source": [
    "# Read in the csv as Data frame\n",
    "budget_data = pd.read_csv(csvpath)\n",
    "budget_data.head(10)"
   ]
  },
  {
   "cell_type": "code",
   "execution_count": 166,
   "id": "b39662be-3352-40c9-8527-a5d2fda23ed4",
   "metadata": {},
   "outputs": [],
   "source": [
    "# Defining budget_data Variables \n",
    "total_month = []\n",
    "total_month = 0\n",
    "profit_loss = 0 \n",
    "revenue = 0\n",
    "revenue = []\n",
    "greatest_increase = [\"\",  9999999]\n",
    "greatest_decrease = [\"\", 0]\n",
    "revenue_change = []\n",
    "month_change = []"
   ]
  },
  {
   "cell_type": "code",
   "execution_count": 180,
   "id": "8da6c66d-446c-4622-91af-d0bc6b8879e6",
   "metadata": {},
   "outputs": [
    {
     "data": {
      "text/plain": [
       "86"
      ]
     },
     "execution_count": 180,
     "metadata": {},
     "output_type": "execute_result"
    }
   ],
   "source": [
    "# total number of months \n",
    "budget_data[\"Profit/Losses\"].count()\n",
    "total_month = budget_data[\"Profit/Losses\"].count()\n",
    "total_month"
   ]
  },
  {
   "cell_type": "code",
   "execution_count": 182,
   "id": "0aa6f382-0ada-4513-b03d-c158724a8e96",
   "metadata": {},
   "outputs": [
    {
     "data": {
      "text/plain": [
       "38382578"
      ]
     },
     "execution_count": 182,
     "metadata": {},
     "output_type": "execute_result"
    }
   ],
   "source": [
    "# The net total amount of Profit/Losses over the entire period\n",
    "budget_data[\"Profit/Losses\"].sum()\n",
    "revenue = budget_data[\"Profit/Losses\"].sum()\n",
    "revenue"
   ]
  },
  {
   "cell_type": "code",
   "execution_count": 185,
   "id": "f5f69f3d-5949-4fa0-8d27-b21b67907e23",
   "metadata": {},
   "outputs": [
    {
     "data": {
      "text/plain": [
       "446309.0465116279"
      ]
     },
     "execution_count": 185,
     "metadata": {},
     "output_type": "execute_result"
    }
   ],
   "source": [
    "# The average of the changes in Profit/Losses over the entire period\n",
    "budget_data[\"Profit/Losses\"].mean()\n",
    "revenue_change = budget_data[\"Profit/Losses\"].mean()\n",
    "revenue_change "
   ]
  },
  {
   "cell_type": "code",
   "execution_count": 195,
   "id": "884f2347-c666-4857-aa67-9f0dfda51d37",
   "metadata": {},
   "outputs": [
    {
     "data": {
      "text/html": [
       "<div>\n",
       "<style scoped>\n",
       "    .dataframe tbody tr th:only-of-type {\n",
       "        vertical-align: middle;\n",
       "    }\n",
       "\n",
       "    .dataframe tbody tr th {\n",
       "        vertical-align: top;\n",
       "    }\n",
       "\n",
       "    .dataframe thead th {\n",
       "        text-align: right;\n",
       "    }\n",
       "</style>\n",
       "<table border=\"1\" class=\"dataframe\">\n",
       "  <thead>\n",
       "    <tr style=\"text-align: right;\">\n",
       "      <th></th>\n",
       "      <th>Date</th>\n",
       "      <th>Profit/Losses</th>\n",
       "      <th>revenue_change</th>\n",
       "    </tr>\n",
       "  </thead>\n",
       "  <tbody>\n",
       "    <tr>\n",
       "      <th>0</th>\n",
       "      <td>Jan-10</td>\n",
       "      <td>867884</td>\n",
       "      <td>NaN</td>\n",
       "    </tr>\n",
       "    <tr>\n",
       "      <th>1</th>\n",
       "      <td>Feb-10</td>\n",
       "      <td>984655</td>\n",
       "      <td>116771.0</td>\n",
       "    </tr>\n",
       "    <tr>\n",
       "      <th>2</th>\n",
       "      <td>Mar-10</td>\n",
       "      <td>322013</td>\n",
       "      <td>-662642.0</td>\n",
       "    </tr>\n",
       "    <tr>\n",
       "      <th>3</th>\n",
       "      <td>Apr-10</td>\n",
       "      <td>-69417</td>\n",
       "      <td>-391430.0</td>\n",
       "    </tr>\n",
       "    <tr>\n",
       "      <th>4</th>\n",
       "      <td>May-10</td>\n",
       "      <td>310503</td>\n",
       "      <td>379920.0</td>\n",
       "    </tr>\n",
       "    <tr>\n",
       "      <th>...</th>\n",
       "      <td>...</td>\n",
       "      <td>...</td>\n",
       "      <td>...</td>\n",
       "    </tr>\n",
       "    <tr>\n",
       "      <th>81</th>\n",
       "      <td>Oct-16</td>\n",
       "      <td>102685</td>\n",
       "      <td>-665765.0</td>\n",
       "    </tr>\n",
       "    <tr>\n",
       "      <th>82</th>\n",
       "      <td>Nov-16</td>\n",
       "      <td>795914</td>\n",
       "      <td>693229.0</td>\n",
       "    </tr>\n",
       "    <tr>\n",
       "      <th>83</th>\n",
       "      <td>Dec-16</td>\n",
       "      <td>60988</td>\n",
       "      <td>-734926.0</td>\n",
       "    </tr>\n",
       "    <tr>\n",
       "      <th>84</th>\n",
       "      <td>Jan-17</td>\n",
       "      <td>138230</td>\n",
       "      <td>77242.0</td>\n",
       "    </tr>\n",
       "    <tr>\n",
       "      <th>85</th>\n",
       "      <td>Feb-17</td>\n",
       "      <td>671099</td>\n",
       "      <td>532869.0</td>\n",
       "    </tr>\n",
       "  </tbody>\n",
       "</table>\n",
       "<p>86 rows × 3 columns</p>\n",
       "</div>"
      ],
      "text/plain": [
       "      Date  Profit/Losses  revenue_change\n",
       "0   Jan-10         867884             NaN\n",
       "1   Feb-10         984655        116771.0\n",
       "2   Mar-10         322013       -662642.0\n",
       "3   Apr-10         -69417       -391430.0\n",
       "4   May-10         310503        379920.0\n",
       "..     ...            ...             ...\n",
       "81  Oct-16         102685       -665765.0\n",
       "82  Nov-16         795914        693229.0\n",
       "83  Dec-16          60988       -734926.0\n",
       "84  Jan-17         138230         77242.0\n",
       "85  Feb-17         671099        532869.0\n",
       "\n",
       "[86 rows x 3 columns]"
      ]
     },
     "execution_count": 195,
     "metadata": {},
     "output_type": "execute_result"
    }
   ],
   "source": [
    "# revenue change\n",
    "budget_data[\"Profit/Losses\"].sum()\n",
    "budget_data['revenue_change']=budget_data[\"Profit/Losses\"]-budget_data[\"Profit/Losses\"].shift()\n",
    "budget_data"
   ]
  },
  {
   "cell_type": "code",
   "execution_count": 223,
   "id": "31441147-8142-456a-9431-a50e57f3f276",
   "metadata": {},
   "outputs": [],
   "source": [
    "#Average change in P&L\n",
    "average_change = budget_data[\"revenue_change\"].mean()"
   ]
  },
  {
   "cell_type": "code",
   "execution_count": 224,
   "id": "cd2e5500-794b-44de-82f6-9a46fffbe302",
   "metadata": {},
   "outputs": [
    {
     "name": "stdout",
     "output_type": "stream",
     "text": [
      "-2315.12\n"
     ]
    }
   ],
   "source": [
    "average_change\n",
    "print(format(average_change,\".2f\"))"
   ]
  },
  {
   "cell_type": "code",
   "execution_count": 205,
   "id": "80294421-c2af-472a-aca4-c42fb1c0e160",
   "metadata": {},
   "outputs": [
    {
     "data": {
      "text/plain": [
       "1926159.0"
      ]
     },
     "execution_count": 205,
     "metadata": {},
     "output_type": "execute_result"
    }
   ],
   "source": [
    "#The greatest increase in profits (date and amount) over the entire period\n",
    "#Greatest Increase in Profits .... defined as max \n",
    "greatest_increase = budget_data[\"revenue_change\"].max()\n",
    "greatest_increase"
   ]
  },
  {
   "cell_type": "code",
   "execution_count": 203,
   "id": "03c9e722-49a6-4556-be23-77dd6ea15026",
   "metadata": {},
   "outputs": [
    {
     "data": {
      "text/plain": [
       "25    Feb-12\n",
       "Name: Date, dtype: object"
      ]
     },
     "execution_count": 203,
     "metadata": {},
     "output_type": "execute_result"
    }
   ],
   "source": [
    "#Greatest Increase in date \n",
    "budget_data.loc[budget_data[\"revenue_change\"] == budget_data[\"revenue_change\"].max(),'Date']"
   ]
  },
  {
   "cell_type": "code",
   "execution_count": 204,
   "id": "6514d473-f9c5-4fb1-99d4-d7964e748769",
   "metadata": {},
   "outputs": [
    {
     "data": {
      "text/plain": [
       "-2196167.0"
      ]
     },
     "execution_count": 204,
     "metadata": {},
     "output_type": "execute_result"
    }
   ],
   "source": [
    "#5 The greatest decrease in losses (date and amount) over the entire period\n",
    "greatest_decrease = budget_data[\"revenue_change\"].min()\n",
    "greatest_decrease"
   ]
  },
  {
   "cell_type": "code",
   "execution_count": 206,
   "id": "664b4a24-083b-447d-bebf-0f832cd326e4",
   "metadata": {},
   "outputs": [
    {
     "data": {
      "text/plain": [
       "44    Sep-13\n",
       "Name: Date, dtype: object"
      ]
     },
     "execution_count": 206,
     "metadata": {},
     "output_type": "execute_result"
    }
   ],
   "source": [
    "#Greatest decreasse  in date\n",
    "budget_data.loc[budget_data[\"revenue_change\"] == budget_data[\"revenue_change\"].min(),'Date']"
   ]
  },
  {
   "cell_type": "code",
   "execution_count": 225,
   "id": "5fb8e7b9-f8e9-4dec-bcb6-62ce408cc055",
   "metadata": {},
   "outputs": [
    {
     "name": "stdout",
     "output_type": "stream",
     "text": [
      "Financial Analysis\n",
      "----------------------\n",
      "Total Month:86\n",
      "Total: $38382578\n",
      "Average Change: $-2315.1176470588234\n",
      "Greatest Increase in Profits: Feb-2012 $(1926159.0)\n",
      "Greatest Decrease in Profits: Sep-2013 $(-2196167.0)\n"
     ]
    }
   ],
   "source": [
    "print(\"Financial Analysis\")\n",
    "print(\"----------------------\")\n",
    "print(f\"Total Month:{total_month}\")\n",
    "print(f\"Total: ${revenue}\")\n",
    "print(f\"Average Change: ${average_change}\")\n",
    "print(f\"Greatest Increase in Profits: Feb-2012 $({greatest_increase})\")\n",
    "print(f\"Greatest Decrease in Profits: Sep-2013 $({greatest_decrease})\")"
   ]
  },
  {
   "cell_type": "code",
   "execution_count": null,
   "id": "507476d6-ca5f-44e8-a702-04f77dddac3f",
   "metadata": {},
   "outputs": [],
   "source": []
  }
 ],
 "metadata": {
  "kernelspec": {
   "display_name": "Python 3",
   "language": "python",
   "name": "python3"
  },
  "language_info": {
   "codemirror_mode": {
    "name": "ipython",
    "version": 3
   },
   "file_extension": ".py",
   "mimetype": "text/x-python",
   "name": "python",
   "nbconvert_exporter": "python",
   "pygments_lexer": "ipython3",
   "version": "3.8.8"
  }
 },
 "nbformat": 4,
 "nbformat_minor": 5
}
