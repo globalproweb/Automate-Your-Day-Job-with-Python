{
 "cells": [
  {
   "cell_type": "code",
   "execution_count": 7,
   "id": "2c3bce5e-f46d-4bc2-9e14-1289fe85ea03",
   "metadata": {
    "tags": []
   },
   "outputs": [],
   "source": [
    "#import necessary modules\n",
    "import os\n",
    "import csv"
   ]
  },
  {
   "cell_type": "code",
   "execution_count": 11,
   "id": "6df14e1b-e1c7-4bd0-9ec0-ce986230e996",
   "metadata": {},
   "outputs": [],
   "source": [
    "#set path for file\n",
    "budget_data_csv = os.path.join(\"C:\\\\Users\\\\Jean-Pierre Koudifo\\\\Dropbox (Global Language)\\\\My PC (LAPTOP-BCAOEDAN)\\\\Desktop\\\\Ressources\\\\budget_data.csv\")"
   ]
  },
  {
   "cell_type": "code",
   "execution_count": 15,
   "id": "9dc719c8-c52d-404b-b53d-e36478a8a76d",
   "metadata": {},
   "outputs": [],
   "source": [
    "#output for financial analyst text\n",
    "text_path = \"financial_analysis.txt\""
   ]
  },
  {
   "cell_type": "code",
   "execution_count": null,
   "id": "5f6af62c-8159-4cc0-8b7f-cebbe1188021",
   "metadata": {},
   "outputs": [],
   "source": [
    "# Financial Analysis Variables\n",
    "total number = 0\n",
    "Net total amount of Profit/Losses over the entire period.\n",
    "average of the changes in Profit/Losses over the entire period.\n",
    "greatest increase in profits (date and amount) over the entire period.\n",
    "greatest decrease in losses (date and amount) over the entire period"
   ]
  },
  {
   "cell_type": "code",
   "execution_count": null,
   "id": "e6e45ea8-f0f1-485a-90a8-ff6f56dfa39e",
   "metadata": {},
   "outputs": [],
   "source": [
    "Total Months: 0\n",
    "Total: 0\n",
    "Average  Change: 0\n",
    "Greatest Increase in Profits: 0\n",
    "Greatest Decrease in Profits: 0\n"
   ]
  },
  {
   "cell_type": "code",
   "execution_count": null,
   "id": "8027a3cc-7f88-459f-8456-80e86c5c77c7",
   "metadata": {},
   "outputs": [],
   "source": []
  },
  {
   "cell_type": "code",
   "execution_count": null,
   "id": "1dd7284f-1236-4fe5-b750-f7f933b44ee9",
   "metadata": {},
   "outputs": [],
   "source": []
  }
 ],
 "metadata": {
  "kernelspec": {
   "display_name": "Python 3",
   "language": "python",
   "name": "python3"
  },
  "language_info": {
   "codemirror_mode": {
    "name": "ipython",
    "version": 3
   },
   "file_extension": ".py",
   "mimetype": "text/x-python",
   "name": "python",
   "nbconvert_exporter": "python",
   "pygments_lexer": "ipython3",
   "version": "3.8.8"
  }
 },
 "nbformat": 4,
 "nbformat_minor": 5
}
