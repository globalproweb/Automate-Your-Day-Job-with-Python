{
 "cells": [
  {
   "cell_type": "code",
   "execution_count": null,
   "id": "497df3f3-f436-449e-819b-9a1e8b2207fc",
   "metadata": {},
   "outputs": [],
   "source": [
    "Financial Analysis\n",
    "----------------------------\n",
    "Total Months: 0\n",
    "Total: 0\n",
    "Average  Change: 0\n",
    "Greatest Increase in Profits:0\n",
    "Greatest Decrease in Profits: 0\n"
   ]
  },
  {
   "cell_type": "code",
   "execution_count": null,
   "id": "0c425b0d-d448-4536-8d31-aa7c94558d8f",
   "metadata": {},
   "outputs": [],
   "source": [
    "import numpy as np\n",
    "import pandas as pd"
   ]
  },
  {
   "cell_type": "code",
   "execution_count": null,
   "id": "03d57ea1-a622-4627-a6dd-70a877b2ea91",
   "metadata": {},
   "outputs": [],
   "source": [
    "budget_data = pd.read_csv(r\"C:\\Users\\Jean-Pierre Koudifo\\Dropbox (Global Language)/My PC (LAPTOP-BCAOEDAN)/Desktop/python-homework/PyBank/budget_data.csv\")                        \n",
    "    print(Budget_dataset)"
   ]
  },
  {
   "cell_type": "code",
   "execution_count": null,
   "id": "87a29306-bce6-4691-b19b-3e5abc366bef",
   "metadata": {
    "tags": []
   },
   "outputs": [],
   "source": [
    "Print(Budget_dataset)"
   ]
  },
  {
   "cell_type": "code",
   "execution_count": null,
   "id": "e708ecab-39bc-4cee-98fe-0d9c85238f6c",
   "metadata": {},
   "outputs": [],
   "source": [
    "Financial Analysis\n",
    "\n",
    "Calculation of the total number of months in the dataset.\n",
    "Calculate  of  the net total amount of Profit/Losses over the entire period. \n",
    "Calculate the average of the changes in Profit/Losses over the entire period. \n",
    "Calculate the greatest increase in Profits over the entire period (Date and Amount)\n",
    "Calculate the greatest decrease in Losses over the entire period (Date and Amount). \n",
    "Print the analysis and export the analysis to a text file that contains the final results. "
   ]
  },
  {
   "cell_type": "code",
   "execution_count": null,
   "id": "8fd8ea80-aba1-4213-9098-9f1228f56573",
   "metadata": {},
   "outputs": [],
   "source": []
  }
 ],
 "metadata": {
  "kernelspec": {
   "display_name": "Python 3",
   "language": "python",
   "name": "python3"
  },
  "language_info": {
   "codemirror_mode": {
    "name": "ipython",
    "version": 3
   },
   "file_extension": ".py",
   "mimetype": "text/x-python",
   "name": "python",
   "nbconvert_exporter": "python",
   "pygments_lexer": "ipython3",
   "version": "3.8.8"
  }
 },
 "nbformat": 4,
 "nbformat_minor": 5
}
